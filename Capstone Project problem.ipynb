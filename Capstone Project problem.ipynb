{
    "cells": [
        {
            "metadata": {},
            "cell_type": "markdown",
            "source": "# Introduction/Business Problem"
        },
        {
            "metadata": {},
            "cell_type": "markdown",
            "source": "along with population growth, growth in the use of transportation means also increases. This has led to a growing number of accidents. WHO stated that Approximately 1.35 million people die each year as a result of road traffic crashes.\n\nThere some risk factor that led into the accident. Some from human factor, some from environmental factor. Some factor maybe more significant than other factor. By the advanced of sensor technologies. We can get environmental data that included in accident risk factor. We can prevent the accident or reduce the severity of the accident before it happen by predict it. "
        },
        {
            "metadata": {},
            "cell_type": "code",
            "source": "import pandas as pd",
            "execution_count": 1,
            "outputs": []
        },
        {
            "metadata": {},
            "cell_type": "code",
            "source": "",
            "execution_count": null,
            "outputs": []
        }
    ],
    "metadata": {
        "kernelspec": {
            "name": "python3",
            "display_name": "Python 3.6",
            "language": "python"
        },
        "language_info": {
            "name": "python",
            "version": "3.6.9",
            "mimetype": "text/x-python",
            "codemirror_mode": {
                "name": "ipython",
                "version": 3
            },
            "pygments_lexer": "ipython3",
            "nbconvert_exporter": "python",
            "file_extension": ".py"
        }
    },
    "nbformat": 4,
    "nbformat_minor": 1
}