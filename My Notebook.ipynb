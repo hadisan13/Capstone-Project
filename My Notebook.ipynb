{
    "cells": [
        {
            "metadata": {},
            "cell_type": "markdown",
            "source": "Library Initialization"
        },
        {
            "metadata": {},
            "cell_type": "code",
            "source": "import pandas as pd\nimport numpy as np\n\nurl = 'https://en.wikipedia.org/wiki/List_of_postal_codes_of_Canada:_M'\ndfs = pd.read_html(url)\n\ndf = dfs[0]",
            "execution_count": 89,
            "outputs": []
        },
        {
            "metadata": {},
            "cell_type": "markdown",
            "source": "Remove Not Assigned Data in Borough Colomn"
        },
        {
            "metadata": {},
            "cell_type": "code",
            "source": "df= df[df[\"Borough\"]!=\"Not assigned\"]\ndf= df.reset_index(drop=True)",
            "execution_count": 98,
            "outputs": []
        },
        {
            "metadata": {},
            "cell_type": "code",
            "source": "Merge Neighborhood data into same B",
            "execution_count": null,
            "outputs": []
        },
        {
            "metadata": {},
            "cell_type": "code",
            "source": "column_names = ['Postal Code', 'Borough', 'Neighborhood'] \nneighborhoods = pd.DataFrame(columns=column_names)\n\nfor i in boroughs:\n    df2= df[df[\"Borough\"]==i]\n    df2= df2.reset_index(drop=True)\n    postal_code = df2[\"Postal Code\"][0]\n    neighbourhood = df2[\"Neighbourhood\"][0]\n    \n    for data in df2[\"Neighbourhood\"][1:]:\n            neighbourhood= neighbourhood + \",\" + data\n    \n    neighborhoods = neighborhoods.append({'Postal Code': postal_code,\n                                          'Borough': i,\n                                          'Neighborhood': neighbourhood}\n                                          , ignore_index=True)\n\nneighborhoods",
            "execution_count": 105,
            "outputs": [
                {
                    "output_type": "execute_result",
                    "execution_count": 105,
                    "data": {
                        "text/plain": "  Postal Code           Borough  \\\n0         M3A        North York   \n1         M5A  Downtown Toronto   \n2         M9A         Etobicoke   \n3         M1B       Scarborough   \n4         M4B         East York   \n5         M6C              York   \n6         M4E      East Toronto   \n7         M6H      West Toronto   \n8         M4N   Central Toronto   \n9         M7R       Mississauga   \n\n                                        Neighborhood  \n0  Parkwoods,Victoria Village,Lawrence Manor, Law...  \n1  Regent Park, Harbourfront,Queen's Park, Ontari...  \n2  Islington Avenue, Humber Valley Village,West D...  \n3  Malvern, Rouge,Rouge Hill, Port Union, Highlan...  \n4  Parkview Hill, Woodbine Gardens,Woodbine Heigh...  \n5  Humewood-Cedarvale,Caledonia-Fairbanks,Del Ray...  \n6  The Beaches,The Danforth West, Riverdale,India...  \n7  Dufferin, Dovercourt Village,Little Portugal, ...  \n8  Lawrence Park,Roselawn,Davisville North,Forest...  \n9              Canada Post Gateway Processing Centre  ",
                        "text/html": "<div>\n<style scoped>\n    .dataframe tbody tr th:only-of-type {\n        vertical-align: middle;\n    }\n\n    .dataframe tbody tr th {\n        vertical-align: top;\n    }\n\n    .dataframe thead th {\n        text-align: right;\n    }\n</style>\n<table border=\"1\" class=\"dataframe\">\n  <thead>\n    <tr style=\"text-align: right;\">\n      <th></th>\n      <th>Postal Code</th>\n      <th>Borough</th>\n      <th>Neighborhood</th>\n    </tr>\n  </thead>\n  <tbody>\n    <tr>\n      <th>0</th>\n      <td>M3A</td>\n      <td>North York</td>\n      <td>Parkwoods,Victoria Village,Lawrence Manor, Law...</td>\n    </tr>\n    <tr>\n      <th>1</th>\n      <td>M5A</td>\n      <td>Downtown Toronto</td>\n      <td>Regent Park, Harbourfront,Queen's Park, Ontari...</td>\n    </tr>\n    <tr>\n      <th>2</th>\n      <td>M9A</td>\n      <td>Etobicoke</td>\n      <td>Islington Avenue, Humber Valley Village,West D...</td>\n    </tr>\n    <tr>\n      <th>3</th>\n      <td>M1B</td>\n      <td>Scarborough</td>\n      <td>Malvern, Rouge,Rouge Hill, Port Union, Highlan...</td>\n    </tr>\n    <tr>\n      <th>4</th>\n      <td>M4B</td>\n      <td>East York</td>\n      <td>Parkview Hill, Woodbine Gardens,Woodbine Heigh...</td>\n    </tr>\n    <tr>\n      <th>5</th>\n      <td>M6C</td>\n      <td>York</td>\n      <td>Humewood-Cedarvale,Caledonia-Fairbanks,Del Ray...</td>\n    </tr>\n    <tr>\n      <th>6</th>\n      <td>M4E</td>\n      <td>East Toronto</td>\n      <td>The Beaches,The Danforth West, Riverdale,India...</td>\n    </tr>\n    <tr>\n      <th>7</th>\n      <td>M6H</td>\n      <td>West Toronto</td>\n      <td>Dufferin, Dovercourt Village,Little Portugal, ...</td>\n    </tr>\n    <tr>\n      <th>8</th>\n      <td>M4N</td>\n      <td>Central Toronto</td>\n      <td>Lawrence Park,Roselawn,Davisville North,Forest...</td>\n    </tr>\n    <tr>\n      <th>9</th>\n      <td>M7R</td>\n      <td>Mississauga</td>\n      <td>Canada Post Gateway Processing Centre</td>\n    </tr>\n  </tbody>\n</table>\n</div>"
                    },
                    "metadata": {}
                }
            ]
        },
        {
            "metadata": {},
            "cell_type": "code",
            "source": "neighborhoods.shape",
            "execution_count": 107,
            "outputs": [
                {
                    "output_type": "execute_result",
                    "execution_count": 107,
                    "data": {
                        "text/plain": "(10, 3)"
                    },
                    "metadata": {}
                }
            ]
        }
    ],
    "metadata": {
        "kernelspec": {
            "name": "python3",
            "display_name": "Python 3.6",
            "language": "python"
        },
        "language_info": {
            "name": "python",
            "version": "3.6.9",
            "mimetype": "text/x-python",
            "codemirror_mode": {
                "name": "ipython",
                "version": 3
            },
            "pygments_lexer": "ipython3",
            "nbconvert_exporter": "python",
            "file_extension": ".py"
        }
    },
    "nbformat": 4,
    "nbformat_minor": 1
}