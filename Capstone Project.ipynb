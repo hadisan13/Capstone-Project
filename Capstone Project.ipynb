{
    "cells": [
        {
            "metadata": {},
            "cell_type": "code",
            "source": "!pip install imblearn",
            "execution_count": 196,
            "outputs": [
                {
                    "output_type": "stream",
                    "text": "Requirement already satisfied: imblearn in /opt/conda/envs/Python36/lib/python3.6/site-packages (0.0)\nRequirement already satisfied: imbalanced-learn in /opt/conda/envs/Python36/lib/python3.6/site-packages (from imblearn) (0.7.0)\nRequirement already satisfied: numpy>=1.13.3 in /opt/conda/envs/Python36/lib/python3.6/site-packages (from imbalanced-learn->imblearn) (1.15.4)\nRequirement already satisfied: scipy>=0.19.1 in /opt/conda/envs/Python36/lib/python3.6/site-packages (from imbalanced-learn->imblearn) (1.2.0)\nRequirement already satisfied: scikit-learn>=0.23 in /opt/conda/envs/Python36/lib/python3.6/site-packages (from imbalanced-learn->imblearn) (0.23.2)\nRequirement already satisfied: joblib>=0.11 in /opt/conda/envs/Python36/lib/python3.6/site-packages (from imbalanced-learn->imblearn) (0.16.0)\nRequirement already satisfied: threadpoolctl>=2.0.0 in /opt/conda/envs/Python36/lib/python3.6/site-packages (from scikit-learn>=0.23->imbalanced-learn->imblearn) (2.1.0)\n",
                    "name": "stdout"
                }
            ]
        },
        {
            "metadata": {},
            "cell_type": "code",
            "source": "import pandas as pd\nimport numpy as np",
            "execution_count": 198,
            "outputs": []
        },
        {
            "metadata": {},
            "cell_type": "code",
            "source": "filename = \"http://data.dft.gov.uk/road-accidents-safety-data/dftRoadSafetyData_Accidents_2018.csv\"\ndf = pd.read_csv(filename)",
            "execution_count": 199,
            "outputs": [
                {
                    "output_type": "stream",
                    "text": "/opt/conda/envs/Python36/lib/python3.6/site-packages/IPython/core/interactiveshell.py:3020: DtypeWarning: Columns (0) have mixed types. Specify dtype option on import or set low_memory=False.\n  interactivity=interactivity, compiler=compiler, result=result)\n",
                    "name": "stderr"
                }
            ]
        },
        {
            "metadata": {},
            "cell_type": "code",
            "source": "headers = [\"Accident_Severity\",\"Number_of_Vehicles\",\"Number_of_Casualties\",\"Road_Type\",\"Speed_limit\",\"Junction_Control\",\n           \"Light_Conditions\",\"Weather_Conditions\",\"Road_Surface_Conditions\",\"Urban_or_Rural_Area\"] \ndf = df[headers]\ndf.head()",
            "execution_count": 200,
            "outputs": [
                {
                    "output_type": "execute_result",
                    "execution_count": 200,
                    "data": {
                        "text/plain": "   Accident_Severity  Number_of_Vehicles  Number_of_Casualties  Road_Type  \\\n0                  3                   2                     2          3   \n1                  3                   1                     1          6   \n2                  3                   2                     1          6   \n3                  2                   2                     1          3   \n4                  2                   2                     2          6   \n\n   Speed_limit  Junction_Control  Light_Conditions  Weather_Conditions  \\\n0           30                -1                 4                   1   \n1           30                 4                 4                   1   \n2           20                 4                 4                   1   \n3           30                 2                 4                   2   \n4           30                -1                 4                   1   \n\n   Road_Surface_Conditions  Urban_or_Rural_Area  \n0                        1                    1  \n1                        1                    1  \n2                        1                    1  \n3                        2                    1  \n4                        2                    1  ",
                        "text/html": "<div>\n<style scoped>\n    .dataframe tbody tr th:only-of-type {\n        vertical-align: middle;\n    }\n\n    .dataframe tbody tr th {\n        vertical-align: top;\n    }\n\n    .dataframe thead th {\n        text-align: right;\n    }\n</style>\n<table border=\"1\" class=\"dataframe\">\n  <thead>\n    <tr style=\"text-align: right;\">\n      <th></th>\n      <th>Accident_Severity</th>\n      <th>Number_of_Vehicles</th>\n      <th>Number_of_Casualties</th>\n      <th>Road_Type</th>\n      <th>Speed_limit</th>\n      <th>Junction_Control</th>\n      <th>Light_Conditions</th>\n      <th>Weather_Conditions</th>\n      <th>Road_Surface_Conditions</th>\n      <th>Urban_or_Rural_Area</th>\n    </tr>\n  </thead>\n  <tbody>\n    <tr>\n      <th>0</th>\n      <td>3</td>\n      <td>2</td>\n      <td>2</td>\n      <td>3</td>\n      <td>30</td>\n      <td>-1</td>\n      <td>4</td>\n      <td>1</td>\n      <td>1</td>\n      <td>1</td>\n    </tr>\n    <tr>\n      <th>1</th>\n      <td>3</td>\n      <td>1</td>\n      <td>1</td>\n      <td>6</td>\n      <td>30</td>\n      <td>4</td>\n      <td>4</td>\n      <td>1</td>\n      <td>1</td>\n      <td>1</td>\n    </tr>\n    <tr>\n      <th>2</th>\n      <td>3</td>\n      <td>2</td>\n      <td>1</td>\n      <td>6</td>\n      <td>20</td>\n      <td>4</td>\n      <td>4</td>\n      <td>1</td>\n      <td>1</td>\n      <td>1</td>\n    </tr>\n    <tr>\n      <th>3</th>\n      <td>2</td>\n      <td>2</td>\n      <td>1</td>\n      <td>3</td>\n      <td>30</td>\n      <td>2</td>\n      <td>4</td>\n      <td>2</td>\n      <td>2</td>\n      <td>1</td>\n    </tr>\n    <tr>\n      <th>4</th>\n      <td>2</td>\n      <td>2</td>\n      <td>2</td>\n      <td>6</td>\n      <td>30</td>\n      <td>-1</td>\n      <td>4</td>\n      <td>1</td>\n      <td>2</td>\n      <td>1</td>\n    </tr>\n  </tbody>\n</table>\n</div>"
                    },
                    "metadata": {}
                }
            ]
        },
        {
            "metadata": {},
            "cell_type": "code",
            "source": "for header in headers:\n    df = df[df[header] != -1]\n\ndf.head()",
            "execution_count": 201,
            "outputs": [
                {
                    "output_type": "execute_result",
                    "execution_count": 201,
                    "data": {
                        "text/plain": "   Accident_Severity  Number_of_Vehicles  Number_of_Casualties  Road_Type  \\\n1                  3                   1                     1          6   \n2                  3                   2                     1          6   \n3                  2                   2                     1          3   \n6                  2                   2                     1          6   \n7                  3                   3                     1          2   \n\n   Speed_limit  Junction_Control  Light_Conditions  Weather_Conditions  \\\n1           30                 4                 4                   1   \n2           20                 4                 4                   1   \n3           30                 2                 4                   2   \n6           30                 4                 4                   1   \n7           30                 4                 7                   1   \n\n   Road_Surface_Conditions  Urban_or_Rural_Area  \n1                        1                    1  \n2                        1                    1  \n3                        2                    1  \n6                        1                    1  \n7                        1                    1  ",
                        "text/html": "<div>\n<style scoped>\n    .dataframe tbody tr th:only-of-type {\n        vertical-align: middle;\n    }\n\n    .dataframe tbody tr th {\n        vertical-align: top;\n    }\n\n    .dataframe thead th {\n        text-align: right;\n    }\n</style>\n<table border=\"1\" class=\"dataframe\">\n  <thead>\n    <tr style=\"text-align: right;\">\n      <th></th>\n      <th>Accident_Severity</th>\n      <th>Number_of_Vehicles</th>\n      <th>Number_of_Casualties</th>\n      <th>Road_Type</th>\n      <th>Speed_limit</th>\n      <th>Junction_Control</th>\n      <th>Light_Conditions</th>\n      <th>Weather_Conditions</th>\n      <th>Road_Surface_Conditions</th>\n      <th>Urban_or_Rural_Area</th>\n    </tr>\n  </thead>\n  <tbody>\n    <tr>\n      <th>1</th>\n      <td>3</td>\n      <td>1</td>\n      <td>1</td>\n      <td>6</td>\n      <td>30</td>\n      <td>4</td>\n      <td>4</td>\n      <td>1</td>\n      <td>1</td>\n      <td>1</td>\n    </tr>\n    <tr>\n      <th>2</th>\n      <td>3</td>\n      <td>2</td>\n      <td>1</td>\n      <td>6</td>\n      <td>20</td>\n      <td>4</td>\n      <td>4</td>\n      <td>1</td>\n      <td>1</td>\n      <td>1</td>\n    </tr>\n    <tr>\n      <th>3</th>\n      <td>2</td>\n      <td>2</td>\n      <td>1</td>\n      <td>3</td>\n      <td>30</td>\n      <td>2</td>\n      <td>4</td>\n      <td>2</td>\n      <td>2</td>\n      <td>1</td>\n    </tr>\n    <tr>\n      <th>6</th>\n      <td>2</td>\n      <td>2</td>\n      <td>1</td>\n      <td>6</td>\n      <td>30</td>\n      <td>4</td>\n      <td>4</td>\n      <td>1</td>\n      <td>1</td>\n      <td>1</td>\n    </tr>\n    <tr>\n      <th>7</th>\n      <td>3</td>\n      <td>3</td>\n      <td>1</td>\n      <td>2</td>\n      <td>30</td>\n      <td>4</td>\n      <td>7</td>\n      <td>1</td>\n      <td>1</td>\n      <td>1</td>\n    </tr>\n  </tbody>\n</table>\n</div>"
                    },
                    "metadata": {}
                }
            ]
        },
        {
            "metadata": {},
            "cell_type": "code",
            "source": "count_class3, count_class2, count_class1 =df.Accident_Severity.value_counts()\ndf_class3 = df[df[\"Accident_Severity\"] == 3]\ndf_class2 = df[df[\"Accident_Severity\"] == 2]\ndf_class3_under = df_class3.sample(count_class2)\ndf = pd.concat([df_class3_under, df_class2], axis=0) \ndf.Accident_Severity.value_counts()",
            "execution_count": 202,
            "outputs": [
                {
                    "output_type": "execute_result",
                    "execution_count": 202,
                    "data": {
                        "text/plain": "3    12213\n2    12213\nName: Accident_Severity, dtype: int64"
                    },
                    "metadata": {}
                }
            ]
        },
        {
            "metadata": {},
            "cell_type": "code",
            "source": "headers = [\"Number_of_Vehicles\",\"Number_of_Casualties\",\"Road_Type\",\"Speed_limit\",\"Junction_Control\",\n           \"Light_Conditions\",\"Weather_Conditions\",\"Road_Surface_Conditions\",\"Urban_or_Rural_Area\"] \nX = df[headers]\ny = df[\"Accident_Severity\"]",
            "execution_count": 203,
            "outputs": []
        },
        {
            "metadata": {},
            "cell_type": "code",
            "source": "from sklearn.model_selection import train_test_split\nX_trainset, X_testset, y_trainset, y_testset = train_test_split(X, y, test_size=0.3, random_state=3)",
            "execution_count": 205,
            "outputs": []
        },
        {
            "metadata": {},
            "cell_type": "code",
            "source": "from sklearn.tree import DecisionTreeClassifier\n\nopt_depth = 0 ;\nopt_accuracy = 0;\n\nfor i in range(1,10):\n    severityTree = DecisionTreeClassifier(criterion=\"entropy\", max_depth = i)\n    severityTree.fit(X_trainset,y_trainset)\n    predTree = severityTree.predict(X_testset)\n    from sklearn import metrics\n    accuracy = metrics.accuracy_score(y_testset, predTree) \n    if  accuracy > opt_accuracy:\n        opt_depth = i\n        opt_accuracy = accuracy \n\nprint(\"Optimum Depth for Decision Tree is:\", opt_depth,\"with accuracy score:\", opt_accuracy)\n          \n          \n          ",
            "execution_count": 210,
            "outputs": [
                {
                    "output_type": "stream",
                    "text": "Optimum Depth for Decision Tree is: 3 with accuracy score: 0.5745087336244541\n",
                    "name": "stdout"
                }
            ]
        },
        {
            "metadata": {},
            "cell_type": "code",
            "source": "from sklearn.neighbors import KNeighborsClassifier\n\nopt_depth = 0 ;\nopt_accuracy = 0;\n\nfor k in range(3,10):\n    neigh = KNeighborsClassifier(n_neighbors = k).fit(X_trainset,y_trainset)\n    yhat = neigh.predict(X_testset)\n    accuracy = metrics.accuracy_score(y_testset, yhat) \n    if  accuracy > opt_accuracy:\n        opt_depth = i\n        opt_accuracy = accuracy \n\nprint(\"Optimum K for KNN is:\", opt_depth,\"with accuracy score:\", opt_accuracy)\n        ",
            "execution_count": 218,
            "outputs": [
                {
                    "output_type": "stream",
                    "text": "Optimum K for KNN is: 9 with accuracy score: 0.5399836244541485\n",
                    "name": "stdout"
                }
            ]
        },
        {
            "metadata": {},
            "cell_type": "code",
            "source": "",
            "execution_count": null,
            "outputs": []
        }
    ],
    "metadata": {
        "kernelspec": {
            "name": "python3",
            "display_name": "Python 3.6",
            "language": "python"
        },
        "language_info": {
            "name": "python",
            "version": "3.6.9",
            "mimetype": "text/x-python",
            "codemirror_mode": {
                "name": "ipython",
                "version": 3
            },
            "pygments_lexer": "ipython3",
            "nbconvert_exporter": "python",
            "file_extension": ".py"
        }
    },
    "nbformat": 4,
    "nbformat_minor": 1
}